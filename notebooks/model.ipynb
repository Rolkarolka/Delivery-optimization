{
 "cells": [
  {
   "cell_type": "code",
   "execution_count": 240,
   "metadata": {},
   "outputs": [],
   "source": [
    "import numpy as np\n",
    "import pandas as pd\n",
    "from pandas import Series\n",
    "import datetime\n",
    "from sklearn import linear_model\n",
    "from matplotlib import pyplot as plt"
   ]
  },
  {
   "cell_type": "code",
   "execution_count": 241,
   "metadata": {},
   "outputs": [],
   "source": [
    "sessions_df = pd.read_json(\"./../data/raw/sessions.jsonl\", lines=True)\n",
    "sessions_df.set_index('session_id', inplace=True)"
   ]
  },
  {
   "cell_type": "code",
   "execution_count": 242,
   "metadata": {},
   "outputs": [],
   "source": [
    "def create_weeks(df):\n",
    "    dates = df['timestamp']\n",
    "    dates = pd.to_datetime(dates)\n",
    "    dates = dates.dt.to_period('W')\n",
    "    dates = dates.drop_duplicates()\n",
    "    dates = dates.sort_values()\n",
    "    return dates"
   ]
  },
  {
   "cell_type": "code",
   "execution_count": 288,
   "metadata": {},
   "outputs": [],
   "source": [
    "def calculate_week_number(date = datetime.date.today()):\n",
    "    first_date = create_weeks(sessions_df).values[0].start_time.date()\n",
    "    return (date - first_date).days//7"
   ]
  },
  {
   "cell_type": "code",
   "execution_count": 243,
   "metadata": {},
   "outputs": [],
   "source": [
    "def product_bought(product_id, df, dates):\n",
    "    product_amount = df[(df['event_type'] == \"BUY_PRODUCT\") & (df['product_id'] == product_id)]\n",
    "    daterange_df = pd.DataFrame()\n",
    "    time_list = [(dates.values[i].start_time, dates.values[i].end_time) for i in range(len(dates))]\n",
    "    daterange_df['count'] = [product_amount['timestamp'].between(s, e).sum() for s, e in time_list]\n",
    "    return daterange_df"
   ]
  },
  {
   "cell_type": "code",
   "execution_count": 244,
   "metadata": {},
   "outputs": [],
   "source": [
    "def prepare_dataframe(df):\n",
    "    dates = create_weeks(df)\n",
    "    weeks = dates.values\n",
    "    df3 = pd.DataFrame()\n",
    "    df3['date'] = [weeks[i].start_time for i in range(len(weeks))]\n",
    "    df2 = pd.DataFrame(index = df3['date'])\n",
    "    df2['weeks_from_start'] = ((df2.index - df2.index[0]).days)//7\n",
    "    return df2, dates"
   ]
  },
  {
   "cell_type": "code",
   "execution_count": 249,
   "metadata": {},
   "outputs": [],
   "source": [
    "def prepare_data(product_id, df, source_df, dates):\n",
    "    x = df['weeks_from_start'].values.reshape(-1, 1)\n",
    "    y = product_bought(product_id, source_df, dates)['count'].values\n",
    "    return x, y"
   ]
  },
  {
   "cell_type": "code",
   "execution_count": 255,
   "metadata": {},
   "outputs": [],
   "source": [
    "def train(x, y):\n",
    "    model = linear_model.LinearRegression().fit(x, y)\n",
    "    linear_model.LinearRegression(copy_X=True, fit_intercept=True, n_jobs=1, normalize=False)\n",
    "    return model"
   ]
  },
  {
   "cell_type": "code",
   "execution_count": 256,
   "metadata": {},
   "outputs": [],
   "source": [
    "def predict(model, week_number):\n",
    "    return model.predict([[week_number]])"
   ]
  },
  {
   "cell_type": "code",
   "execution_count": 257,
   "metadata": {},
   "outputs": [],
   "source": [
    "def plot_model(model, x, y):\n",
    "    plt.scatter(x, y,color='g')\n",
    "    plt.plot(x, model.predict(x),color='k')\n",
    "    plt.show()"
   ]
  },
  {
   "cell_type": "code",
   "execution_count": 291,
   "metadata": {},
   "outputs": [
    {
     "data": {
      "text/plain": [
       "array([0.08811959])"
      ]
     },
     "execution_count": 291,
     "metadata": {},
     "output_type": "execute_result"
    }
   ],
   "source": [
    "df, dates = prepare_dataframe(sessions_df)\n",
    "x, y = prepare_data(1114, df, sessions_df, dates)\n",
    "model = train(x,y)\n",
    "predict(model, -1)"
   ]
  }
 ],
 "metadata": {
  "interpreter": {
   "hash": "bfbb2564a94c227cc94491ed1189a77f5ba7294a92547076bb5c6a5f51f693e7"
  },
  "kernelspec": {
   "display_name": "Python 3.8.0 64-bit ('pipr': conda)",
   "language": "python",
   "name": "python3"
  },
  "language_info": {
   "codemirror_mode": {
    "name": "ipython",
    "version": 3
   },
   "file_extension": ".py",
   "mimetype": "text/x-python",
   "name": "python",
   "nbconvert_exporter": "python",
   "pygments_lexer": "ipython3",
   "version": "3.7.4"
  },
  "orig_nbformat": 4
 },
 "nbformat": 4,
 "nbformat_minor": 2
}
