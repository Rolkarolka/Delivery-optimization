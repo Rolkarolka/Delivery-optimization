{
 "cells": [
  {
   "cell_type": "markdown",
   "metadata": {},
   "source": [
    "## Etap 1"
   ]
  },
  {
   "cell_type": "markdown",
   "metadata": {},
   "source": [
    "### Definicja problemu biznesowego\n",
    "\n",
    "Analiza kontekstu: \n",
    "- obecna sytuacja: nie wiadomo jak zapełniać półki magazynowa; sklep nie potrafi przewidzień co będzie potrzbne w najbliższym tygodniu\n",
    "- co ma zostać wprowadzone? analiza danych oraz przewidywanie co będzie potrzebne w najbliższym tygodniu\n",
    "- jakie właściwości powinno mieć docelowe rozwiązanie? proste, szybkie, wiarygodne\n",
    "- jakie są założenia, oczekiwania, ograniczenia, zasoby? oczekiwania: zapełnianie półek magazynowych dobrymi produktami; ograniczenia: ilość danych do analizy (nie są to dane z całego roku); ograniczona ilość miejsca w magazynie; zasoby: towar dostarczony od dostawców (tutaj chyba zakładamy, że jest on nieskończony)\n",
    "\n",
    "Kontekst: sklep internetowy, z którego użytkownicy zamawiają produkty. Długość dostawy zależy, czy produkt znajduje się w magazynie.\n"
   ]
  },
  {
   "cell_type": "markdown",
   "metadata": {},
   "source": [
    "### Zdefiniowanie zadania/zadań modelowania i wszystkich założeń\n",
    "\n",
    "Przygotowanie modelu rekomendacyjnego na podstawie ilości zamówień w poprzednim roku oraz tendencji klientów.\n",
    "\n",
    "Dane do modelowania:\n",
    "- zamówienia z ostatniego tygodnia (cena, kategorie produktów)\n",
    "- stosunek ilości zamówień w danych okresach roku (np miesięcznie, kwartalnie)\n",
    "- informacje podawane przez użytkowników - np miejsce zamieszkania\n",
    "\n",
    "Przewidywanie produktów, które w danym tygodniu powinny znajdować się na półkach magazynowych.\n",
    "\n",
    "Założenia:\n",
    "- w danym okresie każdego roku stosunek ilości zamówień jest podobny \n",
    "- liczba miejsc w magazynie jest ograniczona, ale wystarczająca, aby pomieścić wszystkie przewidywane produkty na dany tydzień"
   ]
  },
  {
   "cell_type": "markdown",
   "metadata": {},
   "source": [
    "### Zaproponowanie kryteriów sukcesu\n",
    "\n",
    "System powinien generować co najmniej x nowych zamówień ?\n",
    "\n",
    "System powinien generować zmniejszenie czasu dostawy o x ?\n",
    "\n",
    "**System powinien przewidywać minimum x% produktów (np ilość produktów przewidzianych/wszystkich produktów >= x/średnia dzienna ilość zamówień)**"
   ]
  }
 ],
 "metadata": {
  "kernelspec": {
   "display_name": "Python 3",
   "language": "python",
   "name": "python3"
  },
  "language_info": {
   "codemirror_mode": {
    "name": "ipython",
    "version": 3
   },
   "file_extension": ".py",
   "mimetype": "text/x-python",
   "name": "python",
   "nbconvert_exporter": "python",
   "pygments_lexer": "ipython3",
   "version": "3.7.4"
  }
 },
 "nbformat": 4,
 "nbformat_minor": 4
}
