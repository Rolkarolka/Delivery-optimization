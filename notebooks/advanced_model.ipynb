{
 "cells": [
  {
   "cell_type": "code",
   "execution_count": 166,
   "metadata": {},
   "outputs": [],
   "source": [
    "#!pip install statsmodels\n",
    "import numpy as np\n",
    "import pandas as pd\n",
    "from pandas import Series\n",
    "import datetime\n",
    "from sklearn import linear_model\n",
    "from matplotlib import pyplot as plt\n",
    "from statsmodels.tsa.arima.model import ARIMA\n",
    "from pandas.plotting import autocorrelation_plot\n",
    "import operator"
   ]
  },
  {
   "cell_type": "code",
   "execution_count": 167,
   "metadata": {},
   "outputs": [],
   "source": [
    "sessions_df = pd.read_json(\"./../data/raw/sessions.jsonl\", lines=True)\n",
    "sessions_df.set_index('session_id', inplace=True)"
   ]
  },
  {
   "cell_type": "code",
   "execution_count": 168,
   "metadata": {},
   "outputs": [],
   "source": [
    "product_df = pd.read_json(\"./../data/raw/products.jsonl\", lines=True)\n",
    "product_df.set_index('product_id', inplace=True)\n",
    "product_df = product_df.replace([np.inf, -np.inf], np.nan)\n",
    "product_df = product_df.dropna(subset=[\"price\"])\n",
    "product_df = product_df[product_df.price >= 0]"
   ]
  },
  {
   "cell_type": "code",
   "execution_count": 169,
   "metadata": {},
   "outputs": [],
   "source": [
    "def get_products_bought_in_week(week_number, df, sessions_df):\n",
    "    products = []\n",
    "    x = df.loc[df['weeks_from_start'] == week_number].index.values\n",
    "    start = x[0]\n",
    "    product_list = list(sessions_df['product_id'])\n",
    "    end = start + np.timedelta64(6,'D')\n",
    "    sessions_df = sessions_df[(sessions_df['event_type'] == \"BUY_PRODUCT\")]\n",
    "    for i, date in enumerate(sessions_df['timestamp']):\n",
    "        date = np.datetime64(date)\n",
    "        if start <= date <= end:\n",
    "            products.append(product_list[i])\n",
    "    return products"
   ]
  },
  {
   "cell_type": "code",
   "execution_count": 170,
   "metadata": {},
   "outputs": [],
   "source": [
    "def create_weeks(df):\n",
    "    dates = df['timestamp']\n",
    "    dates = pd.to_datetime(dates)\n",
    "    dates = dates.dt.to_period('W')\n",
    "    dates = dates.drop_duplicates()\n",
    "    dates = dates.sort_values()\n",
    "    return dates"
   ]
  },
  {
   "cell_type": "code",
   "execution_count": 171,
   "metadata": {},
   "outputs": [],
   "source": [
    "def split_data(y, split_ratio = 0.8):\n",
    "    split_n = int(split_ratio*len(y))\n",
    "    train = y.iloc[:split_n]\n",
    "    test = y.iloc[split_n:]\n",
    "    return train, test"
   ]
  },
  {
   "cell_type": "code",
   "execution_count": 172,
   "metadata": {},
   "outputs": [],
   "source": [
    "def calculate_week_number(date = datetime.date.today()):\n",
    "    first_date = create_weeks(sessions_df).values[0].start_time.date()\n",
    "    return (date - first_date).days//7"
   ]
  },
  {
   "cell_type": "code",
   "execution_count": 173,
   "metadata": {},
   "outputs": [],
   "source": [
    "def product_bought(product_id, df, dates, df_price = product_df):\n",
    "    product_amount = df[(df['event_type'] == \"BUY_PRODUCT\") & (df['product_id'] == product_id)]\n",
    "    daterange_df = pd.DataFrame()\n",
    "    time_list = [(dates.values[i].start_time, dates.values[i].end_time) for i in range(len(dates))]\n",
    "    daterange_df['count'] = [product_amount['timestamp'].between(s, e).sum() for s, e in time_list]\n",
    "    daterange_df['price'] = list(product_df[product_df.index == 1114]['price'])[0]\n",
    "    daterange_df['discount'] = 0\n",
    "    keys = product_amount.index\n",
    "    for i, time in enumerate(product_amount['timestamp']):\n",
    "        product_amount['timestamp'][keys[i]] = calculate_week_number(time.date())\n",
    "    keys_t = list(product_amount['timestamp'])\n",
    "    j = 0\n",
    "    for i in daterange_df.index:\n",
    "        if i in keys_t:\n",
    "            daterange_df['discount'][i] = product_amount['offered_discount'][keys[j]]\n",
    "            j += 1\n",
    "    return daterange_df"
   ]
  },
  {
   "cell_type": "code",
   "execution_count": 174,
   "metadata": {},
   "outputs": [],
   "source": [
    "def prepare_dataframe(df):\n",
    "    dates = create_weeks(df)\n",
    "    weeks = dates.values\n",
    "    df3 = pd.DataFrame()\n",
    "    df3['date'] = [weeks[i].start_time for i in range(len(weeks))]\n",
    "    df2 = pd.DataFrame(index = df3['date'])\n",
    "    df2['weeks_from_start'] = ((df2.index - df2.index[0]).days)//7\n",
    "    return df2, dates"
   ]
  },
  {
   "cell_type": "code",
   "execution_count": 175,
   "metadata": {},
   "outputs": [],
   "source": [
    "def prepare_data(product_id, df, source_df, dates):\n",
    "    x = df['weeks_from_start'].values.reshape(-1, 1)\n",
    "    y = product_bought(product_id, source_df, dates)['count'].values\n",
    "    return x, y"
   ]
  },
  {
   "cell_type": "code",
   "execution_count": 176,
   "metadata": {},
   "outputs": [],
   "source": [
    "def fit_model(dataset):\n",
    "    model=ARIMA(dataset, order=(1,1,1))\n",
    "    model_fit=model.fit()\n",
    "    return model_fit"
   ]
  },
  {
   "cell_type": "code",
   "execution_count": 177,
   "metadata": {},
   "outputs": [],
   "source": [
    "def get_model_summary(model):\n",
    "    return model.summary()"
   ]
  },
  {
   "cell_type": "code",
   "execution_count": 178,
   "metadata": {},
   "outputs": [],
   "source": [
    "def add_empty_rows(df, amount):\n",
    "    for i in range(amount+1):\n",
    "        df.loc[len(df)] = 0\n",
    "    return df"
   ]
  },
  {
   "cell_type": "code",
   "execution_count": 179,
   "metadata": {},
   "outputs": [],
   "source": [
    "def plot_autocorrelation(dataset):\n",
    "    autocorrelation_plot(dataset)\n",
    "    plt.show()"
   ]
  },
  {
   "cell_type": "code",
   "execution_count": 180,
   "metadata": {},
   "outputs": [],
   "source": [
    "def predict(start_week, end_week, df, model):\n",
    "    while end_week > len(df):\n",
    "        df = add_empty_rows(df, end_week - len(df))\n",
    "    df['forecast']=model.predict(start=start_week,end=end_week,dynamic=True)\n",
    "    return df"
   ]
  },
  {
   "cell_type": "code",
   "execution_count": 181,
   "metadata": {},
   "outputs": [],
   "source": [
    "def predict_products(sessions_df, week_number):\n",
    "    products_predictions = {}\n",
    "    product_list = list(sessions_df['product_id'])\n",
    "    product_list = list(dict.fromkeys(product_list))\n",
    "    df, dates = prepare_dataframe(sessions_df)\n",
    "    for product in product_list:\n",
    "        y = product_bought(product, sessions_df, dates)\n",
    "        train, test = split_data(y)\n",
    "        model_fit = fit_model(train['count'])\n",
    "        predicted = predict(week_number-1, week_number+1, train, model_fit)\n",
    "        products_predictions[product] = predicted['forecast'][week_number]\n",
    "    return products_predictions"
   ]
  },
  {
   "cell_type": "code",
   "execution_count": 182,
   "metadata": {},
   "outputs": [],
   "source": [
    "def calculate_success_criterion(week_number, item_amount = 150):\n",
    "    predictions = predict_products(sessions_df, week_number)\n",
    "    sorted_d = dict(sorted(predictions.items(), key=operator.itemgetter(1),reverse=True))\n",
    "    best_products = dict(list(sorted_d.items())[:item_amount])\n",
    "    chosen_products = list(best_products.keys())\n",
    "    df, dates = prepare_dataframe(sessions_df)\n",
    "    bought_products = get_products_bought_in_week(week_number, df, sessions_df)\n",
    "    same = (set(chosen_products) & set(bought_products))\n",
    "    diff = set(bought_products) - set(chosen_products)\n",
    "    all = len(diff) + len(chosen_products)\n",
    "    return len(same)/all"
   ]
  },
  {
   "cell_type": "code",
   "execution_count": 183,
   "metadata": {},
   "outputs": [
    {
     "name": "stderr",
     "output_type": "stream",
     "text": [
      "ipykernel_launcher:10: SettingWithCopyWarning: \n",
      "A value is trying to be set on a copy of a slice from a DataFrame\n",
      "\n",
      "See the caveats in the documentation: https://pandas.pydata.org/pandas-docs/stable/user_guide/indexing.html#returning-a-view-versus-a-copy\n",
      "C:\\Users\\ewaka\\Anaconda3\\lib\\site-packages\\pandas\\core\\series.py:1059: SettingWithCopyWarning: \n",
      "A value is trying to be set on a copy of a slice from a DataFrame\n",
      "\n",
      "See the caveats in the documentation: https://pandas.pydata.org/pandas-docs/stable/user_guide/indexing.html#returning-a-view-versus-a-copy\n",
      "  self._set_labels(key, value)\n",
      "ipykernel_launcher:6: SettingWithCopyWarning: \n",
      "A value is trying to be set on a copy of a slice from a DataFrame\n",
      "\n",
      "See the caveats in the documentation: https://pandas.pydata.org/pandas-docs/stable/user_guide/indexing.html#returning-a-view-versus-a-copy\n",
      "ipykernel_launcher:15: SettingWithCopyWarning: \n",
      "A value is trying to be set on a copy of a slice from a DataFrame\n",
      "\n",
      "See the caveats in the documentation: https://pandas.pydata.org/pandas-docs/stable/user_guide/indexing.html#returning-a-view-versus-a-copy\n"
     ]
    },
    {
     "data": {
      "text/html": [
       "<div>\n",
       "<style scoped>\n",
       "    .dataframe tbody tr th:only-of-type {\n",
       "        vertical-align: middle;\n",
       "    }\n",
       "\n",
       "    .dataframe tbody tr th {\n",
       "        vertical-align: top;\n",
       "    }\n",
       "\n",
       "    .dataframe thead th {\n",
       "        text-align: right;\n",
       "    }\n",
       "</style>\n",
       "<table border=\"1\" class=\"dataframe\">\n",
       "  <thead>\n",
       "    <tr style=\"text-align: right;\">\n",
       "      <th></th>\n",
       "      <th>count</th>\n",
       "      <th>price</th>\n",
       "      <th>discount</th>\n",
       "    </tr>\n",
       "  </thead>\n",
       "  <tbody>\n",
       "    <tr>\n",
       "      <th>0</th>\n",
       "      <td>0</td>\n",
       "      <td>32.99</td>\n",
       "      <td>0</td>\n",
       "    </tr>\n",
       "    <tr>\n",
       "      <th>1</th>\n",
       "      <td>0</td>\n",
       "      <td>32.99</td>\n",
       "      <td>0</td>\n",
       "    </tr>\n",
       "    <tr>\n",
       "      <th>2</th>\n",
       "      <td>0</td>\n",
       "      <td>32.99</td>\n",
       "      <td>0</td>\n",
       "    </tr>\n",
       "    <tr>\n",
       "      <th>3</th>\n",
       "      <td>0</td>\n",
       "      <td>32.99</td>\n",
       "      <td>0</td>\n",
       "    </tr>\n",
       "    <tr>\n",
       "      <th>4</th>\n",
       "      <td>0</td>\n",
       "      <td>32.99</td>\n",
       "      <td>0</td>\n",
       "    </tr>\n",
       "    <tr>\n",
       "      <th>5</th>\n",
       "      <td>1</td>\n",
       "      <td>32.99</td>\n",
       "      <td>5</td>\n",
       "    </tr>\n",
       "    <tr>\n",
       "      <th>6</th>\n",
       "      <td>0</td>\n",
       "      <td>32.99</td>\n",
       "      <td>0</td>\n",
       "    </tr>\n",
       "    <tr>\n",
       "      <th>7</th>\n",
       "      <td>0</td>\n",
       "      <td>32.99</td>\n",
       "      <td>0</td>\n",
       "    </tr>\n",
       "    <tr>\n",
       "      <th>8</th>\n",
       "      <td>0</td>\n",
       "      <td>32.99</td>\n",
       "      <td>0</td>\n",
       "    </tr>\n",
       "    <tr>\n",
       "      <th>9</th>\n",
       "      <td>0</td>\n",
       "      <td>32.99</td>\n",
       "      <td>0</td>\n",
       "    </tr>\n",
       "  </tbody>\n",
       "</table>\n",
       "</div>"
      ],
      "text/plain": [
       "   count  price  discount\n",
       "0      0  32.99         0\n",
       "1      0  32.99         0\n",
       "2      0  32.99         0\n",
       "3      0  32.99         0\n",
       "4      0  32.99         0\n",
       "5      1  32.99         5\n",
       "6      0  32.99         0\n",
       "7      0  32.99         0\n",
       "8      0  32.99         0\n",
       "9      0  32.99         0"
      ]
     },
     "execution_count": 183,
     "metadata": {},
     "output_type": "execute_result"
    }
   ],
   "source": [
    "products_predictions = {}\n",
    "product_list = list(sessions_df['product_id'])\n",
    "product_list = list(dict.fromkeys(product_list))\n",
    "df, dates = prepare_dataframe(sessions_df)\n",
    "product = 1114\n",
    "y = product_bought(product, sessions_df, dates)\n",
    "y.head(10)"
   ]
  },
  {
   "cell_type": "code",
   "execution_count": 184,
   "metadata": {},
   "outputs": [],
   "source": [
    "# model = fit_model(y)\n",
    "# https://blogs.sap.com/2021/05/06/a-multivariate-time-series-modeling-and-forecasting-guide-with-python-machine-learning-client-for-sap-hana/"
   ]
  },
  {
   "cell_type": "code",
   "execution_count": 185,
   "metadata": {},
   "outputs": [
    {
     "name": "stderr",
     "output_type": "stream",
     "text": [
      "ipykernel_launcher:10: SettingWithCopyWarning: \n",
      "A value is trying to be set on a copy of a slice from a DataFrame\n",
      "\n",
      "See the caveats in the documentation: https://pandas.pydata.org/pandas-docs/stable/user_guide/indexing.html#returning-a-view-versus-a-copy\n",
      "C:\\Users\\ewaka\\Anaconda3\\lib\\site-packages\\pandas\\core\\series.py:1059: SettingWithCopyWarning: \n",
      "A value is trying to be set on a copy of a slice from a DataFrame\n",
      "\n",
      "See the caveats in the documentation: https://pandas.pydata.org/pandas-docs/stable/user_guide/indexing.html#returning-a-view-versus-a-copy\n",
      "  self._set_labels(key, value)\n",
      "ipykernel_launcher:7: SettingWithCopyWarning: \n",
      "A value is trying to be set on a copy of a slice from a DataFrame\n",
      "\n",
      "See the caveats in the documentation: https://pandas.pydata.org/pandas-docs/stable/user_guide/indexing.html#returning-a-view-versus-a-copy\n",
      "ipykernel_launcher:15: SettingWithCopyWarning: \n",
      "A value is trying to be set on a copy of a slice from a DataFrame\n",
      "\n",
      "See the caveats in the documentation: https://pandas.pydata.org/pandas-docs/stable/user_guide/indexing.html#returning-a-view-versus-a-copy\n",
      "C:\\Users\\ewaka\\Anaconda3\\lib\\site-packages\\pandas\\core\\indexing.py:670: SettingWithCopyWarning: \n",
      "A value is trying to be set on a copy of a slice from a DataFrame\n",
      "\n",
      "See the caveats in the documentation: https://pandas.pydata.org/pandas-docs/stable/user_guide/indexing.html#returning-a-view-versus-a-copy\n",
      "  iloc._setitem_with_indexer(indexer, value)\n",
      "ipykernel_launcher:4: SettingWithCopyWarning: \n",
      "A value is trying to be set on a copy of a slice from a DataFrame.\n",
      "Try using .loc[row_indexer,col_indexer] = value instead\n",
      "\n",
      "See the caveats in the documentation: https://pandas.pydata.org/pandas-docs/stable/user_guide/indexing.html#returning-a-view-versus-a-copy\n",
      "ipykernel_launcher:10: SettingWithCopyWarning: \n",
      "A value is trying to be set on a copy of a slice from a DataFrame\n",
      "\n",
      "See the caveats in the documentation: https://pandas.pydata.org/pandas-docs/stable/user_guide/indexing.html#returning-a-view-versus-a-copy\n",
      "C:\\Users\\ewaka\\Anaconda3\\lib\\site-packages\\pandas\\core\\series.py:1059: SettingWithCopyWarning: \n",
      "A value is trying to be set on a copy of a slice from a DataFrame\n",
      "\n",
      "See the caveats in the documentation: https://pandas.pydata.org/pandas-docs/stable/user_guide/indexing.html#returning-a-view-versus-a-copy\n",
      "  self._set_labels(key, value)\n",
      "ipykernel_launcher:7: SettingWithCopyWarning: \n",
      "A value is trying to be set on a copy of a slice from a DataFrame\n",
      "\n",
      "See the caveats in the documentation: https://pandas.pydata.org/pandas-docs/stable/user_guide/indexing.html#returning-a-view-versus-a-copy\n",
      "ipykernel_launcher:15: SettingWithCopyWarning: \n",
      "A value is trying to be set on a copy of a slice from a DataFrame\n",
      "\n",
      "See the caveats in the documentation: https://pandas.pydata.org/pandas-docs/stable/user_guide/indexing.html#returning-a-view-versus-a-copy\n",
      "C:\\Users\\ewaka\\Anaconda3\\lib\\site-packages\\pandas\\core\\indexing.py:670: SettingWithCopyWarning: \n",
      "A value is trying to be set on a copy of a slice from a DataFrame\n",
      "\n",
      "See the caveats in the documentation: https://pandas.pydata.org/pandas-docs/stable/user_guide/indexing.html#returning-a-view-versus-a-copy\n",
      "  iloc._setitem_with_indexer(indexer, value)\n",
      "ipykernel_launcher:4: SettingWithCopyWarning: \n",
      "A value is trying to be set on a copy of a slice from a DataFrame.\n",
      "Try using .loc[row_indexer,col_indexer] = value instead\n",
      "\n",
      "See the caveats in the documentation: https://pandas.pydata.org/pandas-docs/stable/user_guide/indexing.html#returning-a-view-versus-a-copy\n",
      "ipykernel_launcher:10: SettingWithCopyWarning: \n",
      "A value is trying to be set on a copy of a slice from a DataFrame\n",
      "\n",
      "See the caveats in the documentation: https://pandas.pydata.org/pandas-docs/stable/user_guide/indexing.html#returning-a-view-versus-a-copy\n",
      "C:\\Users\\ewaka\\Anaconda3\\lib\\site-packages\\pandas\\core\\series.py:1059: SettingWithCopyWarning: \n",
      "A value is trying to be set on a copy of a slice from a DataFrame\n",
      "\n",
      "See the caveats in the documentation: https://pandas.pydata.org/pandas-docs/stable/user_guide/indexing.html#returning-a-view-versus-a-copy\n",
      "  self._set_labels(key, value)\n",
      "ipykernel_launcher:7: SettingWithCopyWarning: \n",
      "A value is trying to be set on a copy of a slice from a DataFrame\n",
      "\n",
      "See the caveats in the documentation: https://pandas.pydata.org/pandas-docs/stable/user_guide/indexing.html#returning-a-view-versus-a-copy\n",
      "ipykernel_launcher:15: SettingWithCopyWarning: \n",
      "A value is trying to be set on a copy of a slice from a DataFrame\n",
      "\n",
      "See the caveats in the documentation: https://pandas.pydata.org/pandas-docs/stable/user_guide/indexing.html#returning-a-view-versus-a-copy\n",
      "C:\\Users\\ewaka\\Anaconda3\\lib\\site-packages\\pandas\\core\\indexing.py:670: SettingWithCopyWarning: \n",
      "A value is trying to be set on a copy of a slice from a DataFrame\n",
      "\n",
      "See the caveats in the documentation: https://pandas.pydata.org/pandas-docs/stable/user_guide/indexing.html#returning-a-view-versus-a-copy\n",
      "  iloc._setitem_with_indexer(indexer, value)\n",
      "ipykernel_launcher:4: SettingWithCopyWarning: \n",
      "A value is trying to be set on a copy of a slice from a DataFrame.\n",
      "Try using .loc[row_indexer,col_indexer] = value instead\n",
      "\n",
      "See the caveats in the documentation: https://pandas.pydata.org/pandas-docs/stable/user_guide/indexing.html#returning-a-view-versus-a-copy\n",
      "ipykernel_launcher:10: SettingWithCopyWarning: \n",
      "A value is trying to be set on a copy of a slice from a DataFrame\n",
      "\n",
      "See the caveats in the documentation: https://pandas.pydata.org/pandas-docs/stable/user_guide/indexing.html#returning-a-view-versus-a-copy\n",
      "C:\\Users\\ewaka\\Anaconda3\\lib\\site-packages\\pandas\\core\\series.py:1059: SettingWithCopyWarning: \n",
      "A value is trying to be set on a copy of a slice from a DataFrame\n",
      "\n",
      "See the caveats in the documentation: https://pandas.pydata.org/pandas-docs/stable/user_guide/indexing.html#returning-a-view-versus-a-copy\n",
      "  self._set_labels(key, value)\n",
      "ipykernel_launcher:7: SettingWithCopyWarning: \n",
      "A value is trying to be set on a copy of a slice from a DataFrame\n",
      "\n",
      "See the caveats in the documentation: https://pandas.pydata.org/pandas-docs/stable/user_guide/indexing.html#returning-a-view-versus-a-copy\n"
     ]
    }
   ],
   "source": [
    "calculate_success_criterion(100)"
   ]
  }
 ],
 "metadata": {
  "interpreter": {
   "hash": "4391963fd392a4e09cab346ea19c1934796c44c6f2e4e72aa337104d4f49258e"
  },
  "kernelspec": {
   "display_name": "Python 3.7.4 64-bit ('base': conda)",
   "language": "python",
   "name": "python3"
  },
  "language_info": {
   "codemirror_mode": {
    "name": "ipython",
    "version": 3
   },
   "file_extension": ".py",
   "mimetype": "text/x-python",
   "name": "python",
   "nbconvert_exporter": "python",
   "pygments_lexer": "ipython3",
   "version": "3.7.4"
  },
  "orig_nbformat": 4
 },
 "nbformat": 4,
 "nbformat_minor": 2
}
