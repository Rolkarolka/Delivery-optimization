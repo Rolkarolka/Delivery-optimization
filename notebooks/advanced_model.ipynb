{
 "cells": [
  {
   "cell_type": "code",
   "execution_count": 344,
   "metadata": {},
   "outputs": [],
   "source": [
    "#!pip install statsmodels\n",
    "import numpy as np\n",
    "import pandas as pd\n",
    "from pandas import Series\n",
    "import datetime\n",
    "from sklearn import linear_model\n",
    "from matplotlib import pyplot as plt\n",
    "from statsmodels.tsa.arima.model import ARIMA\n",
    "from pandas.plotting import autocorrelation_plot\n",
    "import operator"
   ]
  },
  {
   "cell_type": "code",
   "execution_count": 345,
   "metadata": {},
   "outputs": [],
   "source": [
    "sessions_df = pd.read_json(\"./../data/raw/sessions.jsonl\", lines=True)\n",
    "sessions_df.set_index('session_id', inplace=True)"
   ]
  },
  {
   "cell_type": "code",
   "execution_count": 346,
   "metadata": {},
   "outputs": [],
   "source": [
    "product_df = pd.read_json(\"./../data/raw/products.jsonl\", lines=True)\n",
    "product_df.set_index('product_id', inplace=True)\n",
    "product_df = product_df.replace([np.inf, -np.inf], np.nan)\n",
    "product_df = product_df.dropna(subset=[\"price\"])\n",
    "product_df = product_df[product_df.price >= 0]"
   ]
  },
  {
   "cell_type": "code",
   "execution_count": 347,
   "metadata": {},
   "outputs": [],
   "source": [
    "def get_products_bought_in_week(week_number, df, sessions_df):\n",
    "    products = []\n",
    "    x = df.loc[df['weeks_from_start'] == week_number].index.values\n",
    "    start = x[0]\n",
    "    product_list = list(sessions_df['product_id'])\n",
    "    end = start + np.timedelta64(6,'D')\n",
    "    sessions_df = sessions_df[(sessions_df['event_type'] == \"BUY_PRODUCT\")]\n",
    "    for i, date in enumerate(sessions_df['timestamp']):\n",
    "        date = np.datetime64(date)\n",
    "        if start <= date <= end:\n",
    "            products.append(product_list[i])\n",
    "    return products"
   ]
  },
  {
   "cell_type": "code",
   "execution_count": 348,
   "metadata": {},
   "outputs": [],
   "source": [
    "def create_weeks(df):\n",
    "    dates = df['timestamp']\n",
    "    dates = pd.to_datetime(dates)\n",
    "    dates = dates.dt.to_period('W')\n",
    "    dates = dates.drop_duplicates()\n",
    "    dates = dates.sort_values()\n",
    "    return dates"
   ]
  },
  {
   "cell_type": "code",
   "execution_count": 349,
   "metadata": {},
   "outputs": [],
   "source": [
    "def split_data(y, split_ratio = 0.8):\n",
    "    split_n = int(split_ratio*len(y))\n",
    "    train = y.iloc[:split_n]\n",
    "    test = y.iloc[split_n:]\n",
    "    return train, test"
   ]
  },
  {
   "cell_type": "code",
   "execution_count": 350,
   "metadata": {},
   "outputs": [],
   "source": [
    "def calculate_week_number(date = datetime.date.today()):\n",
    "    first_date = create_weeks(sessions_df).values[0].start_time.date()\n",
    "    return (date - first_date).days//7"
   ]
  },
  {
   "cell_type": "code",
   "execution_count": 351,
   "metadata": {},
   "outputs": [],
   "source": [
    "def product_bought(product_id, df, dates, df_price = product_df):\n",
    "    product_amount = df[(df['event_type'] == \"BUY_PRODUCT\") & (df['product_id'] == product_id)]\n",
    "    \n",
    "    daterange_df = pd.DataFrame()\n",
    "    time_list = [(dates.values[i].start_time, dates.values[i].end_time) for i in range(len(dates))]\n",
    "    daterange_df['count'] = [product_amount['timestamp'].between(s, e).sum() for s, e in time_list]\n",
    "    daterange_df['price'] = list(product_df[product_df.index == 1114]['price'])[0]\n",
    "    daterange_df['discount'] = 0\n",
    "    keys = product_amount.index\n",
    "    for i, time in enumerate(product_amount['timestamp']):\n",
    "        product_amount['timestamp'][keys[i]] = calculate_week_number(time.date())\n",
    "    keys_t = list(product_amount['timestamp'])\n",
    "    j = 0\n",
    "    for i in daterange_df.index:\n",
    "        if i in keys_t:\n",
    "            daterange_df['discount'][i] = product_amount['offered_discount'][keys[j]]\n",
    "            j += 1\n",
    "    return daterange_df"
   ]
  },
  {
   "cell_type": "code",
   "execution_count": 352,
   "metadata": {},
   "outputs": [],
   "source": [
    "def product_viewed(product_id, df, dates, df_price = product_df):\n",
    "    viewed = df[(df['event_type'] == \"VIEW_PRODUCT\") & (df['product_id'] == product_id)]\n",
    "    product_amount = df[(df['event_type'] == \"BUY_PRODUCT\") & (df['product_id'] == product_id)]\n",
    "    daterange_df = pd.DataFrame()\n",
    "    time_list = [(dates.values[i].start_time, dates.values[i].end_time) for i in range(len(dates))]\n",
    "    daterange_df['count'] = [product_amount['timestamp'].between(s, e).sum() for s, e in time_list]\n",
    "    daterange_df['viewed'] = [viewed['timestamp'].between(s, e).sum() for s, e in time_list]\n",
    "    daterange_df['price'] = list(product_df[product_df.index == 1114]['price'])[0]\n",
    "    daterange_df['discount'] = 0\n",
    "    keys = product_amount.index\n",
    "    for i, time in enumerate(product_amount['timestamp']):\n",
    "        product_amount['timestamp'][keys[i]] = calculate_week_number(time.date())\n",
    "    keys = viewed.index\n",
    "    for i, time in enumerate(viewed['timestamp']):\n",
    "        viewed['timestamp'][keys[i]] = calculate_week_number(time.date())\n",
    "    keys_t = list(viewed['timestamp'])\n",
    "    j = 0\n",
    "    for i in daterange_df.index:\n",
    "        if i in keys_t:\n",
    "            daterange_df['discount'][i] = viewed['offered_discount'][keys[j]]\n",
    "            j += 1\n",
    "    return daterange_df"
   ]
  },
  {
   "cell_type": "code",
   "execution_count": 353,
   "metadata": {},
   "outputs": [],
   "source": [
    "def prepare_dataframe(df):\n",
    "    dates = create_weeks(df)\n",
    "    weeks = dates.values\n",
    "    df3 = pd.DataFrame()\n",
    "    df3['date'] = [weeks[i].start_time for i in range(len(weeks))]\n",
    "    df2 = pd.DataFrame(index = df3['date'])\n",
    "    df2['weeks_from_start'] = ((df2.index - df2.index[0]).days)//7\n",
    "    return df2, dates"
   ]
  },
  {
   "cell_type": "code",
   "execution_count": 354,
   "metadata": {},
   "outputs": [],
   "source": [
    "def prepare_data(product_id, df, source_df, dates):\n",
    "    x = df['weeks_from_start'].values.reshape(-1, 1)\n",
    "    y = product_bought(product_id, source_df, dates)['count'].values\n",
    "    return x, y"
   ]
  },
  {
   "cell_type": "code",
   "execution_count": 355,
   "metadata": {},
   "outputs": [],
   "source": [
    "def fit_model(dataset):\n",
    "    model=ARIMA(dataset, order=(1,1,1))\n",
    "    model_fit=model.fit()\n",
    "    return model_fit"
   ]
  },
  {
   "cell_type": "code",
   "execution_count": 356,
   "metadata": {},
   "outputs": [],
   "source": [
    "def get_model_summary(model):\n",
    "    return model.summary()"
   ]
  },
  {
   "cell_type": "code",
   "execution_count": 357,
   "metadata": {},
   "outputs": [],
   "source": [
    "def add_empty_rows(df, amount):\n",
    "    for i in range(amount+1):\n",
    "        df.loc[len(df)] = 0\n",
    "    return df"
   ]
  },
  {
   "cell_type": "code",
   "execution_count": 358,
   "metadata": {},
   "outputs": [],
   "source": [
    "def plot_autocorrelation(dataset):\n",
    "    autocorrelation_plot(dataset)\n",
    "    plt.show()"
   ]
  },
  {
   "cell_type": "code",
   "execution_count": 359,
   "metadata": {},
   "outputs": [],
   "source": [
    "def predict(start_week, end_week, df, model):\n",
    "    while end_week > len(df):\n",
    "        df = add_empty_rows(df, end_week - len(df))\n",
    "    df['forecast']=model.predict(start=start_week,end=end_week,dynamic=True)\n",
    "    return df"
   ]
  },
  {
   "cell_type": "code",
   "execution_count": 360,
   "metadata": {},
   "outputs": [],
   "source": [
    "def predict_products(sessions_df, week_number):\n",
    "    products_predictions = {}\n",
    "    product_list = list(sessions_df['product_id'])\n",
    "    product_list = list(dict.fromkeys(product_list))\n",
    "    df, dates = prepare_dataframe(sessions_df)\n",
    "    for product in product_list:\n",
    "        y = product_bought(product, sessions_df, dates)\n",
    "        train, test = split_data(y)\n",
    "        model_fit = fit_model(train['count'])\n",
    "        predicted = predict(week_number-1, week_number+1, train, model_fit)\n",
    "        products_predictions[product] = predicted['forecast'][week_number]\n",
    "    return products_predictions"
   ]
  },
  {
   "cell_type": "code",
   "execution_count": 361,
   "metadata": {},
   "outputs": [],
   "source": [
    "def calculate_success_criterion(week_number, item_amount = 150):\n",
    "    predictions = predict_products(sessions_df, week_number)\n",
    "    sorted_d = dict(sorted(predictions.items(), key=operator.itemgetter(1),reverse=True))\n",
    "    best_products = dict(list(sorted_d.items())[:item_amount])\n",
    "    chosen_products = list(best_products.keys())\n",
    "    df, dates = prepare_dataframe(sessions_df)\n",
    "    bought_products = get_products_bought_in_week(week_number, df, sessions_df)\n",
    "    same = (set(chosen_products) & set(bought_products))\n",
    "    diff = set(bought_products) - set(chosen_products)\n",
    "    all = len(diff) + len(chosen_products)\n",
    "    return len(same)/all"
   ]
  },
  {
   "cell_type": "code",
   "execution_count": 362,
   "metadata": {},
   "outputs": [],
   "source": [
    "def product_viewed(product_id, df, dates, df_price = product_df):\n",
    "    viewed = df[(df['event_type'] == \"VIEW_PRODUCT\") & (df['product_id'] == product_id)]\n",
    "    product_amount = df[(df['event_type'] == \"BUY_PRODUCT\") & (df['product_id'] == product_id)]\n",
    "    daterange_df = pd.DataFrame()\n",
    "    time_list = [(dates.values[i].start_time, dates.values[i].end_time) for i in range(len(dates))]\n",
    "    daterange_df['count'] = [product_amount['timestamp'].between(s, e).sum() for s, e in time_list]\n",
    "    daterange_df['viewed'] = [viewed['timestamp'].between(s, e).sum() for s, e in time_list]\n",
    "    daterange_df['price'] = list(product_df[product_df.index == 1114]['price'])[0]\n",
    "    daterange_df['discount'] = 0\n",
    "    keys = product_amount.index\n",
    "    for i, time in enumerate(product_amount['timestamp']):\n",
    "        product_amount['timestamp'][keys[i]] = calculate_week_number(time.date())\n",
    "    keys = viewed.index\n",
    "    for i, time in enumerate(viewed['timestamp']):\n",
    "        viewed['timestamp'][keys[i]] = calculate_week_number(time.date())\n",
    "    keys_t = list(viewed['timestamp'])\n",
    "    j = 0\n",
    "    for i in daterange_df.index:\n",
    "        if i in keys_t:\n",
    "            daterange_df['discount'][i] = viewed['offered_discount'][keys[j]]\n",
    "            j += 1\n",
    "    return daterange_df"
   ]
  },
  {
   "cell_type": "code",
   "execution_count": 363,
   "metadata": {},
   "outputs": [],
   "source": [
    "def predict_products_multivar(sessions_df, week_number, y = None):\n",
    "    products_predictions = {}\n",
    "    product_list = list(sessions_df['product_id'])\n",
    "    product_list = list(dict.fromkeys(product_list))\n",
    "    df, dates = prepare_dataframe(sessions_df)\n",
    "    # for product in product_list:\n",
    "    product = 1114\n",
    "    if y is None:\n",
    "        y = product_viewed(product, sessions_df, dates)\n",
    "    train, test = split_data(y)\n",
    "    # train = z.iloc[:-30]\n",
    "    model_fit = fit_model(train['count'])\n",
    "    predicted = predict(week_number-1, week_number+1, train, model_fit)\n",
    "    products_predictions[product] = predicted['forecast'][week_number]\n",
    "    return products_predictions, test"
   ]
  },
  {
   "cell_type": "code",
   "execution_count": 364,
   "metadata": {},
   "outputs": [],
   "source": [
    "def multi_var_arima(sessions_df, product, week_number):\n",
    "    df, dates = prepare_dataframe(sessions_df)\n",
    "    z = product_viewed(product, sessions_df, dates)\n",
    "    z['wsp_sprzedazy'] = z['count']*z['price']*z['discount']\n",
    "    z['wsp_wyswietlen'] = z['viewed']*z['price']*z['discount']\n",
    "    pred, test = predict_products_multivar(sessions_df, week_number, z)\n",
    "    return pred, test"
   ]
  },
  {
   "cell_type": "code",
   "execution_count": 365,
   "metadata": {},
   "outputs": [],
   "source": [
    "def pred_all_products(sessions_df, week_number):\n",
    "    products_predictions = {}\n",
    "    product_list = list(sessions_df['product_id'])\n",
    "    product_list = list(dict.fromkeys(product_list))\n",
    "    for product in product_list:\n",
    "        pred, test = multi_var_arima(sessions_df, product, week_number)\n",
    "        products_predictions[product] = pred\n",
    "    return products_predictions"
   ]
  },
  {
   "cell_type": "code",
   "execution_count": 366,
   "metadata": {},
   "outputs": [],
   "source": [
    "def pred_plot(pred, test):\n",
    "    pred.plot(legend=True)\n",
    "    test['count'].plot(legend=True)"
   ]
  },
  {
   "cell_type": "code",
   "execution_count": 369,
   "metadata": {},
   "outputs": [
    {
     "name": "stderr",
     "output_type": "stream",
     "text": [
      "ipykernel_launcher:12: SettingWithCopyWarning: \n",
      "A value is trying to be set on a copy of a slice from a DataFrame\n",
      "\n",
      "See the caveats in the documentation: https://pandas.pydata.org/pandas-docs/stable/user_guide/indexing.html#returning-a-view-versus-a-copy\n",
      "C:\\Users\\ewaka\\Anaconda3\\lib\\site-packages\\pandas\\core\\series.py:1059: SettingWithCopyWarning: \n",
      "A value is trying to be set on a copy of a slice from a DataFrame\n",
      "\n",
      "See the caveats in the documentation: https://pandas.pydata.org/pandas-docs/stable/user_guide/indexing.html#returning-a-view-versus-a-copy\n",
      "  self._set_labels(key, value)\n",
      "ipykernel_launcher:3: SettingWithCopyWarning: \n",
      "A value is trying to be set on a copy of a slice from a DataFrame\n",
      "\n",
      "See the caveats in the documentation: https://pandas.pydata.org/pandas-docs/stable/user_guide/indexing.html#returning-a-view-versus-a-copy\n",
      "ipykernel_launcher:15: SettingWithCopyWarning: \n",
      "A value is trying to be set on a copy of a slice from a DataFrame\n",
      "\n",
      "See the caveats in the documentation: https://pandas.pydata.org/pandas-docs/stable/user_guide/indexing.html#returning-a-view-versus-a-copy\n",
      "ipykernel_launcher:20: SettingWithCopyWarning: \n",
      "A value is trying to be set on a copy of a slice from a DataFrame\n",
      "\n",
      "See the caveats in the documentation: https://pandas.pydata.org/pandas-docs/stable/user_guide/indexing.html#returning-a-view-versus-a-copy\n",
      "C:\\Users\\ewaka\\Anaconda3\\lib\\site-packages\\pandas\\core\\indexing.py:670: SettingWithCopyWarning: \n",
      "A value is trying to be set on a copy of a slice from a DataFrame\n",
      "\n",
      "See the caveats in the documentation: https://pandas.pydata.org/pandas-docs/stable/user_guide/indexing.html#returning-a-view-versus-a-copy\n",
      "  iloc._setitem_with_indexer(indexer, value)\n",
      "ipykernel_launcher:4: SettingWithCopyWarning: \n",
      "A value is trying to be set on a copy of a slice from a DataFrame.\n",
      "Try using .loc[row_indexer,col_indexer] = value instead\n",
      "\n",
      "See the caveats in the documentation: https://pandas.pydata.org/pandas-docs/stable/user_guide/indexing.html#returning-a-view-versus-a-copy\n"
     ]
    }
   ],
   "source": [
    "pred, test = multi_var_arima(sessions_df, 1114, 100)"
   ]
  },
  {
   "cell_type": "code",
   "execution_count": null,
   "metadata": {},
   "outputs": [],
   "source": [
    "# Predykcja dla wszystkich produktów za pomocą wielu atrybutów\n",
    "# pred_all_products(sessions_df, 100)"
   ]
  },
  {
   "cell_type": "code",
   "execution_count": null,
   "metadata": {},
   "outputs": [],
   "source": [
    "# Obliczenie kryterium sukcesu dla modelu ARIMA z jednym atrybutem wejściowym - \n",
    "# liczba produktów kupionych w danym tygodniu\n",
    "# calculate_success_criterion(100)"
   ]
  },
  {
   "cell_type": "markdown",
   "metadata": {},
   "source": [
    "## Pomoce"
   ]
  },
  {
   "cell_type": "code",
   "execution_count": null,
   "metadata": {},
   "outputs": [
    {
     "data": {
      "text/html": [
       "<table class=\"simpletable\">\n",
       "<caption>SARIMAX Results</caption>\n",
       "<tr>\n",
       "  <th>Dep. Variable:</th>         <td>count</td>      <th>  No. Observations:  </th>   <td>124</td>  \n",
       "</tr>\n",
       "<tr>\n",
       "  <th>Model:</th>            <td>ARIMA(1, 0, 5)</td>  <th>  Log Likelihood     </th> <td>-35.143</td>\n",
       "</tr>\n",
       "<tr>\n",
       "  <th>Date:</th>            <td>Fri, 14 Jan 2022</td> <th>  AIC                </th> <td>86.286</td> \n",
       "</tr>\n",
       "<tr>\n",
       "  <th>Time:</th>                <td>21:04:15</td>     <th>  BIC                </th> <td>108.849</td>\n",
       "</tr>\n",
       "<tr>\n",
       "  <th>Sample:</th>                  <td>0</td>        <th>  HQIC               </th> <td>95.452</td> \n",
       "</tr>\n",
       "<tr>\n",
       "  <th></th>                      <td> - 124</td>      <th>                     </th>    <td> </td>   \n",
       "</tr>\n",
       "<tr>\n",
       "  <th>Covariance Type:</th>        <td>opg</td>       <th>                     </th>    <td> </td>   \n",
       "</tr>\n",
       "</table>\n",
       "<table class=\"simpletable\">\n",
       "<tr>\n",
       "     <td></td>       <th>coef</th>     <th>std err</th>      <th>z</th>      <th>P>|z|</th>  <th>[0.025</th>    <th>0.975]</th>  \n",
       "</tr>\n",
       "<tr>\n",
       "  <th>const</th>  <td>    0.1061</td> <td>    0.135</td> <td>    0.784</td> <td> 0.433</td> <td>   -0.159</td> <td>    0.371</td>\n",
       "</tr>\n",
       "<tr>\n",
       "  <th>ar.L1</th>  <td>    0.1348</td> <td>    0.338</td> <td>    0.399</td> <td> 0.690</td> <td>   -0.527</td> <td>    0.797</td>\n",
       "</tr>\n",
       "<tr>\n",
       "  <th>ma.L1</th>  <td>   -0.0296</td> <td>    0.306</td> <td>   -0.097</td> <td> 0.923</td> <td>   -0.628</td> <td>    0.569</td>\n",
       "</tr>\n",
       "<tr>\n",
       "  <th>ma.L2</th>  <td>    0.0614</td> <td>    0.095</td> <td>    0.645</td> <td> 0.519</td> <td>   -0.125</td> <td>    0.248</td>\n",
       "</tr>\n",
       "<tr>\n",
       "  <th>ma.L3</th>  <td>    0.0442</td> <td>    0.118</td> <td>    0.375</td> <td> 0.708</td> <td>   -0.187</td> <td>    0.275</td>\n",
       "</tr>\n",
       "<tr>\n",
       "  <th>ma.L4</th>  <td>    0.1979</td> <td>    0.090</td> <td>    2.205</td> <td> 0.027</td> <td>    0.022</td> <td>    0.374</td>\n",
       "</tr>\n",
       "<tr>\n",
       "  <th>ma.L5</th>  <td>    0.2547</td> <td>    0.094</td> <td>    2.701</td> <td> 0.007</td> <td>    0.070</td> <td>    0.440</td>\n",
       "</tr>\n",
       "<tr>\n",
       "  <th>sigma2</th> <td>    0.1027</td> <td>    0.016</td> <td>    6.467</td> <td> 0.000</td> <td>    0.072</td> <td>    0.134</td>\n",
       "</tr>\n",
       "</table>\n",
       "<table class=\"simpletable\">\n",
       "<tr>\n",
       "  <th>Ljung-Box (L1) (Q):</th>     <td>0.00</td> <th>  Jarque-Bera (JB):  </th> <td>442.75</td>\n",
       "</tr>\n",
       "<tr>\n",
       "  <th>Prob(Q):</th>                <td>1.00</td> <th>  Prob(JB):          </th>  <td>0.00</td> \n",
       "</tr>\n",
       "<tr>\n",
       "  <th>Heteroskedasticity (H):</th> <td>1.08</td> <th>  Skew:              </th>  <td>2.62</td> \n",
       "</tr>\n",
       "<tr>\n",
       "  <th>Prob(H) (two-sided):</th>    <td>0.81</td> <th>  Kurtosis:          </th>  <td>10.63</td>\n",
       "</tr>\n",
       "</table><br/><br/>Warnings:<br/>[1] Covariance matrix calculated using the outer product of gradients (complex-step)."
      ],
      "text/plain": [
       "<class 'statsmodels.iolib.summary.Summary'>\n",
       "\"\"\"\n",
       "                               SARIMAX Results                                \n",
       "==============================================================================\n",
       "Dep. Variable:                  count   No. Observations:                  124\n",
       "Model:                 ARIMA(1, 0, 5)   Log Likelihood                 -35.143\n",
       "Date:                Fri, 14 Jan 2022   AIC                             86.286\n",
       "Time:                        21:04:15   BIC                            108.849\n",
       "Sample:                             0   HQIC                            95.452\n",
       "                                - 124                                         \n",
       "Covariance Type:                  opg                                         \n",
       "==============================================================================\n",
       "                 coef    std err          z      P>|z|      [0.025      0.975]\n",
       "------------------------------------------------------------------------------\n",
       "const          0.1061      0.135      0.784      0.433      -0.159       0.371\n",
       "ar.L1          0.1348      0.338      0.399      0.690      -0.527       0.797\n",
       "ma.L1         -0.0296      0.306     -0.097      0.923      -0.628       0.569\n",
       "ma.L2          0.0614      0.095      0.645      0.519      -0.125       0.248\n",
       "ma.L3          0.0442      0.118      0.375      0.708      -0.187       0.275\n",
       "ma.L4          0.1979      0.090      2.205      0.027       0.022       0.374\n",
       "ma.L5          0.2547      0.094      2.701      0.007       0.070       0.440\n",
       "sigma2         0.1027      0.016      6.467      0.000       0.072       0.134\n",
       "===================================================================================\n",
       "Ljung-Box (L1) (Q):                   0.00   Jarque-Bera (JB):               442.75\n",
       "Prob(Q):                              1.00   Prob(JB):                         0.00\n",
       "Heteroskedasticity (H):               1.08   Skew:                             2.62\n",
       "Prob(H) (two-sided):                  0.81   Kurtosis:                        10.63\n",
       "===================================================================================\n",
       "\n",
       "Warnings:\n",
       "[1] Covariance matrix calculated using the outer product of gradients (complex-step).\n",
       "\"\"\""
      ]
     },
     "execution_count": 315,
     "metadata": {},
     "output_type": "execute_result"
    }
   ],
   "source": [
    "model = ARIMA(z['count'], order = (1,0,5))\n",
    "model = model.fit()\n",
    "model.summary()"
   ]
  },
  {
   "cell_type": "code",
   "execution_count": null,
   "metadata": {},
   "outputs": [
    {
     "data": {
      "text/html": [
       "<table class=\"simpletable\">\n",
       "<caption>SARIMAX Results</caption>\n",
       "<tr>\n",
       "  <th>Dep. Variable:</th>         <td>count</td>      <th>  No. Observations:  </th>   <td>94</td>   \n",
       "</tr>\n",
       "<tr>\n",
       "  <th>Model:</th>            <td>ARIMA(1, 1, 1)</td>  <th>  Log Likelihood     </th> <td>-37.187</td>\n",
       "</tr>\n",
       "<tr>\n",
       "  <th>Date:</th>            <td>Fri, 14 Jan 2022</td> <th>  AIC                </th> <td>80.373</td> \n",
       "</tr>\n",
       "<tr>\n",
       "  <th>Time:</th>                <td>21:07:56</td>     <th>  BIC                </th> <td>87.971</td> \n",
       "</tr>\n",
       "<tr>\n",
       "  <th>Sample:</th>                  <td>0</td>        <th>  HQIC               </th> <td>83.441</td> \n",
       "</tr>\n",
       "<tr>\n",
       "  <th></th>                       <td> - 94</td>      <th>                     </th>    <td> </td>   \n",
       "</tr>\n",
       "<tr>\n",
       "  <th>Covariance Type:</th>        <td>opg</td>       <th>                     </th>    <td> </td>   \n",
       "</tr>\n",
       "</table>\n",
       "<table class=\"simpletable\">\n",
       "<tr>\n",
       "     <td></td>       <th>coef</th>     <th>std err</th>      <th>z</th>      <th>P>|z|</th>  <th>[0.025</th>    <th>0.975]</th>  \n",
       "</tr>\n",
       "<tr>\n",
       "  <th>ar.L1</th>  <td>    0.0295</td> <td>    0.094</td> <td>    0.315</td> <td> 0.752</td> <td>   -0.154</td> <td>    0.213</td>\n",
       "</tr>\n",
       "<tr>\n",
       "  <th>ma.L1</th>  <td>   -0.8404</td> <td>    0.042</td> <td>  -19.791</td> <td> 0.000</td> <td>   -0.924</td> <td>   -0.757</td>\n",
       "</tr>\n",
       "<tr>\n",
       "  <th>sigma2</th> <td>    0.1286</td> <td>    0.012</td> <td>   11.091</td> <td> 0.000</td> <td>    0.106</td> <td>    0.151</td>\n",
       "</tr>\n",
       "</table>\n",
       "<table class=\"simpletable\">\n",
       "<tr>\n",
       "  <th>Ljung-Box (L1) (Q):</th>     <td>0.00</td> <th>  Jarque-Bera (JB):  </th> <td>161.95</td>\n",
       "</tr>\n",
       "<tr>\n",
       "  <th>Prob(Q):</th>                <td>0.95</td> <th>  Prob(JB):          </th>  <td>0.00</td> \n",
       "</tr>\n",
       "<tr>\n",
       "  <th>Heteroskedasticity (H):</th> <td>3.62</td> <th>  Skew:              </th>  <td>1.99</td> \n",
       "</tr>\n",
       "<tr>\n",
       "  <th>Prob(H) (two-sided):</th>    <td>0.00</td> <th>  Kurtosis:          </th>  <td>8.10</td> \n",
       "</tr>\n",
       "</table><br/><br/>Warnings:<br/>[1] Covariance matrix calculated using the outer product of gradients (complex-step)."
      ],
      "text/plain": [
       "<class 'statsmodels.iolib.summary.Summary'>\n",
       "\"\"\"\n",
       "                               SARIMAX Results                                \n",
       "==============================================================================\n",
       "Dep. Variable:                  count   No. Observations:                   94\n",
       "Model:                 ARIMA(1, 1, 1)   Log Likelihood                 -37.187\n",
       "Date:                Fri, 14 Jan 2022   AIC                             80.373\n",
       "Time:                        21:07:56   BIC                             87.971\n",
       "Sample:                             0   HQIC                            83.441\n",
       "                                 - 94                                         \n",
       "Covariance Type:                  opg                                         \n",
       "==============================================================================\n",
       "                 coef    std err          z      P>|z|      [0.025      0.975]\n",
       "------------------------------------------------------------------------------\n",
       "ar.L1          0.0295      0.094      0.315      0.752      -0.154       0.213\n",
       "ma.L1         -0.8404      0.042    -19.791      0.000      -0.924      -0.757\n",
       "sigma2         0.1286      0.012     11.091      0.000       0.106       0.151\n",
       "===================================================================================\n",
       "Ljung-Box (L1) (Q):                   0.00   Jarque-Bera (JB):               161.95\n",
       "Prob(Q):                              0.95   Prob(JB):                         0.00\n",
       "Heteroskedasticity (H):               3.62   Skew:                             1.99\n",
       "Prob(H) (two-sided):                  0.00   Kurtosis:                         8.10\n",
       "===================================================================================\n",
       "\n",
       "Warnings:\n",
       "[1] Covariance matrix calculated using the outer product of gradients (complex-step).\n",
       "\"\"\""
      ]
     },
     "execution_count": 335,
     "metadata": {},
     "output_type": "execute_result"
    }
   ],
   "source": [
    "train = z.iloc[:-30]\n",
    "test = z.iloc[-30:]\n",
    "model = ARIMA(train['count'], order = (1,1,1))\n",
    "model = model.fit()\n",
    "model.summary()"
   ]
  },
  {
   "cell_type": "code",
   "execution_count": null,
   "metadata": {},
   "outputs": [],
   "source": [
    "start = len(train)\n",
    "end = len(train) + len(test) - 1\n",
    "pred = model.predict(start=start, end=end, typ='levels')"
   ]
  },
  {
   "cell_type": "code",
   "execution_count": null,
   "metadata": {},
   "outputs": [
    {
     "data": {
      "text/plain": [
       "94     0.031485\n",
       "95     0.032415\n",
       "96     0.032442\n",
       "97     0.032443\n",
       "98     0.032443\n",
       "99     0.032443\n",
       "100    0.032443\n",
       "101    0.032443\n",
       "102    0.032443\n",
       "103    0.032443\n",
       "104    0.032443\n",
       "105    0.032443\n",
       "106    0.032443\n",
       "107    0.032443\n",
       "108    0.032443\n",
       "109    0.032443\n",
       "110    0.032443\n",
       "111    0.032443\n",
       "112    0.032443\n",
       "113    0.032443\n",
       "114    0.032443\n",
       "115    0.032443\n",
       "116    0.032443\n",
       "117    0.032443\n",
       "118    0.032443\n",
       "119    0.032443\n",
       "120    0.032443\n",
       "121    0.032443\n",
       "122    0.032443\n",
       "123    0.032443\n",
       "Name: predicted_mean, dtype: float64"
      ]
     },
     "execution_count": 337,
     "metadata": {},
     "output_type": "execute_result"
    }
   ],
   "source": [
    "pred"
   ]
  },
  {
   "cell_type": "code",
   "execution_count": null,
   "metadata": {},
   "outputs": [
    {
     "data": {
      "text/plain": [
       "<matplotlib.axes._subplots.AxesSubplot at 0x1da32398808>"
      ]
     },
     "execution_count": 330,
     "metadata": {},
     "output_type": "execute_result"
    },
    {
     "data": {
      "image/png": "[encoded data removed]",
      "text/plain": [
       "<Figure size 432x288 with 1 Axes>"
      ]
     },
     "metadata": {
      "needs_background": "light"
     },
     "output_type": "display_data"
    }
   ],
   "source": [
    "pred.plot(legend=True)\n",
    "test['count'].plot(legend=True)"
   ]
  },
  {
   "cell_type": "code",
   "execution_count": null,
   "metadata": {},
   "outputs": [
    {
     "data": {
      "text/plain": [
       "0.25198569536195214"
      ]
     },
     "execution_count": 320,
     "metadata": {},
     "output_type": "execute_result"
    }
   ],
   "source": [
    "from sklearn.metrics import mean_squared_error\n",
    "from math import sqrt\n",
    "\n",
    "rmse = sqrt(mean_squared_error(pred, test['count']))\n",
    "rmse"
   ]
  },
  {
   "cell_type": "code",
   "execution_count": null,
   "metadata": {},
   "outputs": [],
   "source": [
    "test['count'].mean()"
   ]
  },
  {
   "cell_type": "code",
   "execution_count": null,
   "metadata": {},
   "outputs": [
    {
     "name": "stderr",
     "output_type": "stream",
     "text": [
      "ipykernel_launcher:11: SettingWithCopyWarning: \n",
      "A value is trying to be set on a copy of a slice from a DataFrame\n",
      "\n",
      "See the caveats in the documentation: https://pandas.pydata.org/pandas-docs/stable/user_guide/indexing.html#returning-a-view-versus-a-copy\n",
      "C:\\Users\\ewaka\\Anaconda3\\lib\\site-packages\\pandas\\core\\series.py:1059: SettingWithCopyWarning: \n",
      "A value is trying to be set on a copy of a slice from a DataFrame\n",
      "\n",
      "See the caveats in the documentation: https://pandas.pydata.org/pandas-docs/stable/user_guide/indexing.html#returning-a-view-versus-a-copy\n",
      "  self._set_labels(key, value)\n",
      "ipykernel_launcher:6: SettingWithCopyWarning: \n",
      "A value is trying to be set on a copy of a slice from a DataFrame\n",
      "\n",
      "See the caveats in the documentation: https://pandas.pydata.org/pandas-docs/stable/user_guide/indexing.html#returning-a-view-versus-a-copy\n",
      "ipykernel_launcher:16: SettingWithCopyWarning: \n",
      "A value is trying to be set on a copy of a slice from a DataFrame\n",
      "\n",
      "See the caveats in the documentation: https://pandas.pydata.org/pandas-docs/stable/user_guide/indexing.html#returning-a-view-versus-a-copy\n"
     ]
    },
    {
     "data": {
      "text/html": [
       "<div>\n",
       "<style scoped>\n",
       "    .dataframe tbody tr th:only-of-type {\n",
       "        vertical-align: middle;\n",
       "    }\n",
       "\n",
       "    .dataframe tbody tr th {\n",
       "        vertical-align: top;\n",
       "    }\n",
       "\n",
       "    .dataframe thead th {\n",
       "        text-align: right;\n",
       "    }\n",
       "</style>\n",
       "<table border=\"1\" class=\"dataframe\">\n",
       "  <thead>\n",
       "    <tr style=\"text-align: right;\">\n",
       "      <th></th>\n",
       "      <th>count</th>\n",
       "      <th>price</th>\n",
       "      <th>discount</th>\n",
       "    </tr>\n",
       "  </thead>\n",
       "  <tbody>\n",
       "    <tr>\n",
       "      <th>0</th>\n",
       "      <td>0</td>\n",
       "      <td>32.99</td>\n",
       "      <td>0</td>\n",
       "    </tr>\n",
       "    <tr>\n",
       "      <th>1</th>\n",
       "      <td>0</td>\n",
       "      <td>32.99</td>\n",
       "      <td>0</td>\n",
       "    </tr>\n",
       "    <tr>\n",
       "      <th>2</th>\n",
       "      <td>0</td>\n",
       "      <td>32.99</td>\n",
       "      <td>0</td>\n",
       "    </tr>\n",
       "    <tr>\n",
       "      <th>3</th>\n",
       "      <td>0</td>\n",
       "      <td>32.99</td>\n",
       "      <td>0</td>\n",
       "    </tr>\n",
       "    <tr>\n",
       "      <th>4</th>\n",
       "      <td>0</td>\n",
       "      <td>32.99</td>\n",
       "      <td>0</td>\n",
       "    </tr>\n",
       "    <tr>\n",
       "      <th>5</th>\n",
       "      <td>1</td>\n",
       "      <td>32.99</td>\n",
       "      <td>5</td>\n",
       "    </tr>\n",
       "    <tr>\n",
       "      <th>6</th>\n",
       "      <td>0</td>\n",
       "      <td>32.99</td>\n",
       "      <td>0</td>\n",
       "    </tr>\n",
       "    <tr>\n",
       "      <th>7</th>\n",
       "      <td>0</td>\n",
       "      <td>32.99</td>\n",
       "      <td>0</td>\n",
       "    </tr>\n",
       "    <tr>\n",
       "      <th>8</th>\n",
       "      <td>0</td>\n",
       "      <td>32.99</td>\n",
       "      <td>0</td>\n",
       "    </tr>\n",
       "    <tr>\n",
       "      <th>9</th>\n",
       "      <td>0</td>\n",
       "      <td>32.99</td>\n",
       "      <td>0</td>\n",
       "    </tr>\n",
       "  </tbody>\n",
       "</table>\n",
       "</div>"
      ],
      "text/plain": [
       "   count  price  discount\n",
       "0      0  32.99         0\n",
       "1      0  32.99         0\n",
       "2      0  32.99         0\n",
       "3      0  32.99         0\n",
       "4      0  32.99         0\n",
       "5      1  32.99         5\n",
       "6      0  32.99         0\n",
       "7      0  32.99         0\n",
       "8      0  32.99         0\n",
       "9      0  32.99         0"
      ]
     },
     "execution_count": 264,
     "metadata": {},
     "output_type": "execute_result"
    }
   ],
   "source": [
    "products_predictions = {}\n",
    "product_list = list(sessions_df['product_id'])\n",
    "product_list = list(dict.fromkeys(product_list))\n",
    "df, dates = prepare_dataframe(sessions_df)\n",
    "product = 1114\n",
    "y = product_bought(product, sessions_df, dates)\n",
    "y.head(10)"
   ]
  },
  {
   "cell_type": "code",
   "execution_count": null,
   "metadata": {},
   "outputs": [],
   "source": [
    "#!pip install hana_ml\n",
    "from hana_ml.algorithms.pal.tsa.vector_arima import VectorARIMA\n",
    "from statsmodels.tsa.statespace.varmax import VARMAX\n",
    "import statsmodels.api as sm\n",
    "from statsmodels.tsa.vector_ar.var_model import VAR\n",
    "import statsmodels\n",
    "from statsmodels.tsa.statespace.sarimax import SARIMAX\n",
    "# !pip install pmdarima\n",
    "from pmdarima import auto_arima\n",
    "# !pip install pmdarima\n",
    "from pmdarima.arima import auto_arima\n",
    "import os\n",
    "import sys\n",
    "import warnings\n",
    "from datetime import date\n",
    "\n",
    "import pandas as pd\n",
    "import numpy as np\n",
    "from numpy.linalg import LinAlgError\n",
    "from numpy import cumsum, log, polyfit, sqrt, std, subtract\n",
    "\n",
    "import matplotlib.pyplot as plt\n",
    "import matplotlib.transforms as mtransforms\n",
    "import matplotlib.cm as cm\n",
    "\n",
    "from scipy.stats import spearmanr, pearsonr\n",
    "from scipy.stats import probplot, moment\n",
    "\n",
    "import statsmodels.api as sm\n",
    "import statsmodels.tsa.api as smt\n",
    "from statsmodels.tsa.api import VAR, VARMAX\n",
    "from statsmodels.tsa.stattools import acf, q_stat, adfuller\n",
    "from statsmodels.graphics.tsaplots import plot_acf, plot_pacf\n",
    "from statsmodels.tsa.stattools import grangercausalitytests\n",
    "from statsmodels.tsa.stattools import adfuller\n",
    "from statsmodels.stats.stattools import durbin_watson\n",
    "\n",
    "from sklearn.metrics import mean_squared_error, mean_absolute_error"
   ]
  },
  {
   "cell_type": "code",
   "execution_count": null,
   "metadata": {},
   "outputs": [
    {
     "name": "stdout",
     "output_type": "stream",
     "text": [
      "Searching order of p and q for : count\n",
      "Performing stepwise search to minimize aic\n",
      " ARIMA(1,0,1)(0,0,0)[0]             : AIC=85.413, Time=0.13 sec\n",
      " ARIMA(0,0,0)(0,0,0)[0]             : AIC=99.983, Time=0.03 sec\n",
      " ARIMA(1,0,0)(0,0,0)[0]             : AIC=94.044, Time=0.04 sec\n",
      " ARIMA(0,0,1)(0,0,0)[0]             : AIC=95.773, Time=0.05 sec\n",
      " ARIMA(2,0,1)(0,0,0)[0]             : AIC=87.410, Time=0.25 sec\n",
      " ARIMA(1,0,2)(0,0,0)[0]             : AIC=87.410, Time=0.09 sec\n",
      " ARIMA(0,0,2)(0,0,0)[0]             : AIC=95.655, Time=0.03 sec\n",
      " ARIMA(2,0,0)(0,0,0)[0]             : AIC=93.855, Time=0.05 sec\n",
      " ARIMA(2,0,2)(0,0,0)[0]             : AIC=inf, Time=0.59 sec\n",
      " ARIMA(1,0,1)(0,0,0)[0] intercept   : AIC=85.076, Time=0.11 sec\n",
      " ARIMA(0,0,1)(0,0,0)[0] intercept   : AIC=88.061, Time=0.04 sec\n",
      " ARIMA(1,0,0)(0,0,0)[0] intercept   : AIC=87.603, Time=0.04 sec\n",
      " ARIMA(2,0,1)(0,0,0)[0] intercept   : AIC=87.073, Time=0.21 sec\n",
      " ARIMA(1,0,2)(0,0,0)[0] intercept   : AIC=87.073, Time=0.47 sec\n",
      " ARIMA(0,0,0)(0,0,0)[0] intercept   : AIC=89.085, Time=0.06 sec\n",
      " ARIMA(0,0,2)(0,0,0)[0] intercept   : AIC=89.392, Time=0.10 sec\n",
      " ARIMA(2,0,0)(0,0,0)[0] intercept   : AIC=88.984, Time=0.10 sec\n",
      " ARIMA(2,0,2)(0,0,0)[0] intercept   : AIC=87.108, Time=0.88 sec\n",
      "\n",
      "Best model:  ARIMA(1,0,1)(0,0,0)[0] intercept\n",
      "Total fit time: 3.318 seconds\n",
      "optimal order for:count is: (1, 0, 1) \n",
      "\n",
      "\n",
      "Searching order of p and q for : price\n",
      " ARIMA(0,0,0)(0,0,0)[0]             : AIC=1220.955, Time=0.01 sec\n",
      "Total fit time: 0.016 seconds\n",
      "optimal order for:price is: (0, 0, 0) \n",
      "\n",
      "\n",
      "Searching order of p and q for : discount\n",
      "Performing stepwise search to minimize aic\n",
      " ARIMA(1,0,1)(0,0,0)[0]             : AIC=725.281, Time=0.08 sec\n",
      " ARIMA(0,0,0)(0,0,0)[0]             : AIC=746.887, Time=0.01 sec\n",
      " ARIMA(1,0,0)(0,0,0)[0]             : AIC=736.157, Time=0.02 sec\n",
      " ARIMA(0,0,1)(0,0,0)[0]             : AIC=739.349, Time=0.04 sec\n"
     ]
    },
    {
     "name": "stderr",
     "output_type": "stream",
     "text": [
      "C:\\Users\\ewaka\\Anaconda3\\lib\\site-packages\\pmdarima\\arima\\auto.py:460: UserWarning: Input time-series is completely constant; returning a (0, 0, 0) ARMA.\n",
      "  warnings.warn('Input time-series is completely constant; '\n"
     ]
    },
    {
     "name": "stdout",
     "output_type": "stream",
     "text": [
      " ARIMA(2,0,1)(0,0,0)[0]             : AIC=727.275, Time=0.13 sec\n",
      " ARIMA(1,0,2)(0,0,0)[0]             : AIC=727.273, Time=0.16 sec\n",
      " ARIMA(0,0,2)(0,0,0)[0]             : AIC=737.994, Time=0.07 sec\n",
      " ARIMA(2,0,0)(0,0,0)[0]             : AIC=735.223, Time=0.06 sec\n",
      " ARIMA(2,0,2)(0,0,0)[0]             : AIC=728.641, Time=0.22 sec\n",
      " ARIMA(1,0,1)(0,0,0)[0] intercept   : AIC=725.911, Time=0.17 sec\n",
      "\n",
      "Best model:  ARIMA(1,0,1)(0,0,0)[0]          \n",
      "Total fit time: 0.965 seconds\n",
      "optimal order for:discount is: (1, 0, 1) \n",
      "\n",
      "\n"
     ]
    }
   ],
   "source": [
    "pq = []\n",
    "for name, column in y[['count', 'price', 'discount']].iteritems():\n",
    "    print(f'Searching order of p and q for : {name}')\n",
    "    stepwise_model = auto_arima(y[name],start_p=1, start_q=1, max_p=7, max_q=7, seasonal=False,\n",
    "        trace=True,error_action='ignore',suppress_warnings=True, stepwise=True,maxiter=1000)\n",
    "    parameter = stepwise_model.get_params().get('order')\n",
    "    print(f'optimal order for:{name} is: {parameter} \\n\\n')\n",
    "    pq.append(stepwise_model.get_params().get('order'))"
   ]
  },
  {
   "cell_type": "code",
   "execution_count": null,
   "metadata": {},
   "outputs": [
    {
     "ename": "ValueError",
     "evalue": "y should be a 1d array, got an array of shape (124, 3) instead.",
     "output_type": "error",
     "traceback": [
      "\u001b[1;31m---------------------------------------------------------------------------\u001b[0m",
      "\u001b[1;31mValueError\u001b[0m                                Traceback (most recent call last)",
      "\u001b[1;32m<ipython-input-268-ff3c923405b3>\u001b[0m in \u001b[0;36m<module>\u001b[1;34m\u001b[0m\n\u001b[0;32m     12\u001b[0m \u001b[1;31m# model_result = model.fit(maxiter=1000, disp=False)\u001b[0m\u001b[1;33m\u001b[0m\u001b[1;33m\u001b[0m\u001b[1;33m\u001b[0m\u001b[0m\n\u001b[0;32m     13\u001b[0m \u001b[1;33m\u001b[0m\u001b[0m\n\u001b[1;32m---> 14\u001b[1;33m \u001b[0mmodel\u001b[0m \u001b[1;33m=\u001b[0m \u001b[0mauto_arima\u001b[0m\u001b[1;33m(\u001b[0m\u001b[0my\u001b[0m\u001b[1;33m,\u001b[0m \u001b[0mtrace\u001b[0m\u001b[1;33m=\u001b[0m\u001b[1;32mTrue\u001b[0m\u001b[1;33m,\u001b[0m \u001b[0merror_action\u001b[0m\u001b[1;33m=\u001b[0m\u001b[1;34m'ignore'\u001b[0m\u001b[1;33m,\u001b[0m \u001b[0msuppress_warnings\u001b[0m\u001b[1;33m=\u001b[0m\u001b[1;32mTrue\u001b[0m\u001b[1;33m)\u001b[0m\u001b[1;33m\u001b[0m\u001b[1;33m\u001b[0m\u001b[0m\n\u001b[0m\u001b[0;32m     15\u001b[0m \u001b[0mmodel\u001b[0m\u001b[1;33m.\u001b[0m\u001b[0mfit\u001b[0m\u001b[1;33m(\u001b[0m\u001b[0my\u001b[0m\u001b[1;33m)\u001b[0m\u001b[1;33m\u001b[0m\u001b[1;33m\u001b[0m\u001b[0m\n\u001b[0;32m     16\u001b[0m \u001b[1;33m\u001b[0m\u001b[0m\n",
      "\u001b[1;32m~\\Anaconda3\\lib\\site-packages\\pmdarima\\arima\\auto.py\u001b[0m in \u001b[0;36mauto_arima\u001b[1;34m(y, X, start_p, d, start_q, max_p, max_d, max_q, start_P, D, start_Q, max_P, max_D, max_Q, max_order, m, seasonal, stationary, information_criterion, alpha, test, seasonal_test, stepwise, n_jobs, start_params, trend, method, maxiter, offset_test_args, seasonal_test_args, suppress_warnings, error_action, trace, random, random_state, n_fits, return_valid_fits, out_of_sample_size, scoring, scoring_args, with_intercept, sarimax_kwargs, **fit_args)\u001b[0m\n\u001b[0;32m    436\u001b[0m \u001b[1;33m\u001b[0m\u001b[0m\n\u001b[0;32m    437\u001b[0m     \u001b[1;31m# copy array\u001b[0m\u001b[1;33m\u001b[0m\u001b[1;33m\u001b[0m\u001b[1;33m\u001b[0m\u001b[0m\n\u001b[1;32m--> 438\u001b[1;33m     \u001b[0my\u001b[0m \u001b[1;33m=\u001b[0m \u001b[0mcheck_endog\u001b[0m\u001b[1;33m(\u001b[0m\u001b[0my\u001b[0m\u001b[1;33m,\u001b[0m \u001b[0mdtype\u001b[0m\u001b[1;33m=\u001b[0m\u001b[0mDTYPE\u001b[0m\u001b[1;33m)\u001b[0m\u001b[1;33m\u001b[0m\u001b[1;33m\u001b[0m\u001b[0m\n\u001b[0m\u001b[0;32m    439\u001b[0m     \u001b[0mn_samples\u001b[0m \u001b[1;33m=\u001b[0m \u001b[0my\u001b[0m\u001b[1;33m.\u001b[0m\u001b[0mshape\u001b[0m\u001b[1;33m[\u001b[0m\u001b[1;36m0\u001b[0m\u001b[1;33m]\u001b[0m\u001b[1;33m\u001b[0m\u001b[1;33m\u001b[0m\u001b[0m\n\u001b[0;32m    440\u001b[0m \u001b[1;33m\u001b[0m\u001b[0m\n",
      "\u001b[1;32m~\\Anaconda3\\lib\\site-packages\\pmdarima\\utils\\array.py\u001b[0m in \u001b[0;36mcheck_endog\u001b[1;34m(y, dtype, copy, force_all_finite)\u001b[0m\n\u001b[0;32m    169\u001b[0m     return column_or_1d(\n\u001b[0;32m    170\u001b[0m         check_array(y, ensure_2d=False, force_all_finite=force_all_finite,\n\u001b[1;32m--> 171\u001b[1;33m                     copy=copy, dtype=dtype))  # type: np.ndarray\n\u001b[0m\u001b[0;32m    172\u001b[0m \u001b[1;33m\u001b[0m\u001b[0m\n\u001b[0;32m    173\u001b[0m \u001b[1;33m\u001b[0m\u001b[0m\n",
      "\u001b[1;32m~\\Anaconda3\\lib\\site-packages\\sklearn\\utils\\validation.py\u001b[0m in \u001b[0;36minner_f\u001b[1;34m(*args, **kwargs)\u001b[0m\n\u001b[0;32m     70\u001b[0m                           FutureWarning)\n\u001b[0;32m     71\u001b[0m         \u001b[0mkwargs\u001b[0m\u001b[1;33m.\u001b[0m\u001b[0mupdate\u001b[0m\u001b[1;33m(\u001b[0m\u001b[1;33m{\u001b[0m\u001b[0mk\u001b[0m\u001b[1;33m:\u001b[0m \u001b[0marg\u001b[0m \u001b[1;32mfor\u001b[0m \u001b[0mk\u001b[0m\u001b[1;33m,\u001b[0m \u001b[0marg\u001b[0m \u001b[1;32min\u001b[0m \u001b[0mzip\u001b[0m\u001b[1;33m(\u001b[0m\u001b[0msig\u001b[0m\u001b[1;33m.\u001b[0m\u001b[0mparameters\u001b[0m\u001b[1;33m,\u001b[0m \u001b[0margs\u001b[0m\u001b[1;33m)\u001b[0m\u001b[1;33m}\u001b[0m\u001b[1;33m)\u001b[0m\u001b[1;33m\u001b[0m\u001b[1;33m\u001b[0m\u001b[0m\n\u001b[1;32m---> 72\u001b[1;33m         \u001b[1;32mreturn\u001b[0m \u001b[0mf\u001b[0m\u001b[1;33m(\u001b[0m\u001b[1;33m**\u001b[0m\u001b[0mkwargs\u001b[0m\u001b[1;33m)\u001b[0m\u001b[1;33m\u001b[0m\u001b[1;33m\u001b[0m\u001b[0m\n\u001b[0m\u001b[0;32m     73\u001b[0m     \u001b[1;32mreturn\u001b[0m \u001b[0minner_f\u001b[0m\u001b[1;33m\u001b[0m\u001b[1;33m\u001b[0m\u001b[0m\n\u001b[0;32m     74\u001b[0m \u001b[1;33m\u001b[0m\u001b[0m\n",
      "\u001b[1;32m~\\Anaconda3\\lib\\site-packages\\sklearn\\utils\\validation.py\u001b[0m in \u001b[0;36mcolumn_or_1d\u001b[1;34m(y, warn)\u001b[0m\n\u001b[0;32m    845\u001b[0m     raise ValueError(\n\u001b[0;32m    846\u001b[0m         \u001b[1;34m\"y should be a 1d array, \"\u001b[0m\u001b[1;33m\u001b[0m\u001b[1;33m\u001b[0m\u001b[0m\n\u001b[1;32m--> 847\u001b[1;33m         \"got an array of shape {} instead.\".format(shape))\n\u001b[0m\u001b[0;32m    848\u001b[0m \u001b[1;33m\u001b[0m\u001b[0m\n\u001b[0;32m    849\u001b[0m \u001b[1;33m\u001b[0m\u001b[0m\n",
      "\u001b[1;31mValueError\u001b[0m: y should be a 1d array, got an array of shape (124, 3) instead."
     ]
    }
   ],
   "source": [
    "# mod = sm.tsa.VARMAX(y[['count', 'price', 'discount']], order=(0,2,1), error_cov_type='diagonal')\n",
    "# res = mod.fit(maxiter=1000, disp=False)\n",
    "\n",
    "# model = VARMAX(y[['count', 'discount']], order=(1, 2))\n",
    "# model_fit = model.fit(y['count'])\n",
    "# model = SARIMAX(y, order=(1, 0, 2), exog=y['count'])\n",
    "\n",
    "# model = VARMAX(y, order=(1, 2))\n",
    "# model_fit = model.fit(y,  disp=False)\n",
    "\n",
    "# model = sm.tsa.VARMAX(list(y['count']), order=(1,0), trend='c')\n",
    "# model_result = model.fit(maxiter=1000, disp=False)\n",
    "\n",
    "model = auto_arima(y, trace=True, error_action='ignore', suppress_warnings=True)\n",
    "model.fit(y)\n",
    "\n",
    "# model = VAR(y)\n",
    "# model_fit = model.fit()\n",
    "\n",
    "# model = ARIMA(y['Act'], order=(1, 1, 1))\n",
    "# model_fit = model.fit(disp=False)"
   ]
  },
  {
   "cell_type": "code",
   "execution_count": null,
   "metadata": {},
   "outputs": [],
   "source": [
    "# model = fit_model(y)\n",
    "# https://blogs.sap.com/2021/05/06/a-multivariate-time-series-modeling-and-forecasting-guide-with-python-machine-learning-client-for-sap-hana/"
   ]
  },
  {
   "cell_type": "code",
   "execution_count": null,
   "metadata": {},
   "outputs": [],
   "source": [
    "def hurst(ts):\n",
    "    lags = range(2, 100)\n",
    "    tau = [sqrt(std(subtract(ts[lag:], ts[:-lag]))) for lag in lags]\n",
    "    poly = np.polyfit(log(lags), log(tau), 1)\n",
    "    return poly[0]*2.0"
   ]
  },
  {
   "cell_type": "code",
   "execution_count": null,
   "metadata": {},
   "outputs": [],
   "source": [
    "def plot_correlogram(x, lags=None, title=None):    \n",
    "    lags = min(10, int(len(x)/5)) if lags is None else lags\n",
    "    fig, axes = plt.subplots(nrows=2, ncols=2, figsize=(12, 8))\n",
    "    x.plot(ax=axes[0][0])\n",
    "    q_p = np.max(q_stat(acf(x, nlags=lags), len(x))[1])\n",
    "    stats = f'Q-Stat: {np.max(q_p):>8.2f}\\nADF: {adfuller(x)[1]:>11.2f} \\nHurst: {round(hurst(x.values),2)}'\n",
    "    axes[0][0].text(x=.02, y=.85, s=stats, transform=axes[0][0].transAxes)\n",
    "    probplot(x, plot=axes[0][1])\n",
    "    mean, var, skew, kurtosis = moment(x, moment=[1, 2, 3, 4])\n",
    "    s = f'Mean: {mean:>12.2f}\\nSD: {np.sqrt(var):>16.2f}\\nSkew: {skew:12.2f}\\nKurtosis:{kurtosis:9.2f}'\n",
    "    axes[0][1].text(x=.02, y=.75, s=s, transform=axes[0][1].transAxes)\n",
    "    plot_acf(x=x, lags=lags, zero=False, ax=axes[1][0])\n",
    "    plot_pacf(x, lags=lags, zero=False, ax=axes[1][1])\n",
    "    axes[1][0].set_xlabel('Lag')\n",
    "    axes[1][1].set_xlabel('Lag')\n",
    "    fig.suptitle(title, fontsize=20)\n",
    "    fig.tight_layout()\n",
    "    fig.subplots_adjust(top=.9)"
   ]
  },
  {
   "cell_type": "code",
   "execution_count": null,
   "metadata": {},
   "outputs": [],
   "source": [
    "def create_weeks(df):\n",
    "    dates = df['timestamp']\n",
    "    dates = pd.to_datetime(dates)\n",
    "    dates = dates.dt.to_period('W')\n",
    "    dates = dates.drop_duplicates()\n",
    "    dates = dates.sort_values()\n",
    "    return dates"
   ]
  },
  {
   "cell_type": "code",
   "execution_count": null,
   "metadata": {},
   "outputs": [
    {
     "name": "stderr",
     "output_type": "stream",
     "text": [
      "C:\\Users\\ewaka\\Anaconda3\\lib\\site-packages\\statsmodels\\graphics\\tsaplots.py:353: FutureWarning: The default method 'yw' can produce PACF values outside of the [-1,1] interval. After 0.13, the default will change tounadjusted Yule-Walker ('ywm'). You can use this method now by setting method='ywm'.\n",
      "  FutureWarning,\n"
     ]
    },
    {
     "data": {
      "image/png": "[encoded data removed]",
      "text/plain": [
       "<Figure size 864x576 with 4 Axes>"
      ]
     },
     "metadata": {
      "needs_background": "light"
     },
     "output_type": "display_data"
    }
   ],
   "source": [
    "plot_correlogram(y['count'])"
   ]
  },
  {
   "cell_type": "code",
   "execution_count": null,
   "metadata": {},
   "outputs": [
    {
     "data": {
      "image/png": "[encoded data removed]",
      "text/plain": [
       "<Figure size 720x720 with 4 Axes>"
      ]
     },
     "metadata": {
      "needs_background": "light"
     },
     "output_type": "display_data"
    },
    {
     "name": "stderr",
     "output_type": "stream",
     "text": [
      "C:\\Users\\ewaka\\Anaconda3\\lib\\site-packages\\numpy\\core\\function_base.py:153: RuntimeWarning: invalid value encountered in multiply\n",
      "  y = y * step\n",
      "C:\\Users\\ewaka\\Anaconda3\\lib\\site-packages\\numpy\\linalg\\linalg.py:1965: RuntimeWarning: invalid value encountered in greater\n",
      "  :math:`Ax = b`,\" i.e., if :math:`\\\\bar{x}` is said solution, then\n",
      "C:\\Users\\ewaka\\Anaconda3\\lib\\site-packages\\numpy\\lib\\nanfunctions.py:1392: RuntimeWarning: All-NaN slice encountered\n",
      "  part = a.ravel()\n"
     ]
    },
    {
     "data": {
      "text/plain": [
       "<seaborn.axisgrid.JointGrid at 0x1da31fb7dc8>"
      ]
     },
     "execution_count": 275,
     "metadata": {},
     "output_type": "execute_result"
    },
    {
     "data": {
      "image/png": "[encoded data removed]",
      "text/plain": [
       "<Figure size 432x432 with 3 Axes>"
      ]
     },
     "metadata": {
      "needs_background": "light"
     },
     "output_type": "display_data"
    }
   ],
   "source": [
    "df = z\n",
    "g = sns.clustermap(df.corr(), annot=True)\n",
    "ax = g.ax_heatmap\n",
    "bottom, top = ax.get_ylim()\n",
    "ax.set_ylim(bottom + 0.5, top - 0.5)\n",
    "plt.title('Pairwise Correlations')\n",
    "plt.show()\n",
    "\n",
    "sns.jointplot(x=df[\"wsp_sprzedazy\"].pct_change().dropna(), y=df['wsp_wyswietlen'].pct_change().dropna(), kind=\"reg\")"
   ]
  },
  {
   "cell_type": "code",
   "execution_count": null,
   "metadata": {},
   "outputs": [],
   "source": [
    "product_from_category_df = pd.merge(sessions_df, product_df, on='product_id', how='inner')\n",
    "product_id = 1114\n",
    "category = product_from_category_df[product_from_category_df['product_id'] == product_id]['category_path'][0]\n",
    "\n",
    "product_from_category_df = pd.merge(sessions_df, product_df, on='product_id', how='inner')\n",
    "df = product_from_category_df[product_from_category_df['event_type'] == \"BUY_PRODUCT\"]\n",
    "df = df[df['category_path'] == category]\n",
    "# print(df)"
   ]
  },
  {
   "cell_type": "code",
   "execution_count": null,
   "metadata": {},
   "outputs": [],
   "source": []
  }
 ],
 "metadata": {
  "interpreter": {
   "hash": "4391963fd392a4e09cab346ea19c1934796c44c6f2e4e72aa337104d4f49258e"
  },
  "kernelspec": {
   "display_name": "Python 3.7.4 64-bit ('base': conda)",
   "language": "python",
   "name": "python3"
  },
  "language_info": {
   "codemirror_mode": {
    "name": "ipython",
    "version": 3
   },
   "file_extension": ".py",
   "mimetype": "text/x-python",
   "name": "python",
   "nbconvert_exporter": "python",
   "pygments_lexer": "ipython3",
   "version": "3.7.4"
  },
  "orig_nbformat": 4
 },
 "nbformat": 4,
 "nbformat_minor": 2
}
